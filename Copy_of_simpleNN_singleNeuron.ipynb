{
  "nbformat": 4,
  "nbformat_minor": 0,
  "metadata": {
    "colab": {
      "provenance": [],
      "include_colab_link": true
    },
    "kernelspec": {
      "name": "python3",
      "display_name": "Python 3"
    },
    "language_info": {
      "name": "python"
    }
  },
  "cells": [
    {
      "cell_type": "markdown",
      "metadata": {
        "id": "view-in-github",
        "colab_type": "text"
      },
      "source": [
        "<a href=\"https://colab.research.google.com/github/kushalk20/Deep-Learning/blob/main/Copy_of_simpleNN_singleNeuron.ipynb\" target=\"_parent\"><img src=\"https://colab.research.google.com/assets/colab-badge.svg\" alt=\"Open In Colab\"/></a>"
      ]
    },
    {
      "cell_type": "code",
      "source": [
        "# Last amended: 2nd June, 2023\n",
        "# Ref: https://www.kaggle.com/code/ryanholbrook/a-single-neuron"
      ],
      "metadata": {
        "id": "vTDfGIp_Vf8U"
      },
      "execution_count": null,
      "outputs": []
    },
    {
      "cell_type": "code",
      "execution_count": null,
      "metadata": {
        "id": "egD0Pwrp7KlC"
      },
      "outputs": [],
      "source": [
        "# 1.0 Call libraries\n",
        "import pandas as pd\n",
        "import numpy as np\n",
        "from  pathlib import Path\n",
        "\n",
        "# 1.0.1\n",
        "import tensorflow as tf\n",
        "from tensorflow import keras\n",
        "from tensorflow.keras import layers"
      ]
    },
    {
      "cell_type": "code",
      "source": [
        "# 1.1 Display multiple commands output from a cell\n",
        "from IPython.core.interactiveshell import InteractiveShell\n",
        "InteractiveShell.ast_node_interactivity = \"all\""
      ],
      "metadata": {
        "id": "L7ho_mDmbgnA"
      },
      "execution_count": null,
      "outputs": []
    },
    {
      "cell_type": "code",
      "source": [
        "# 2.0\n",
        "from google.colab import drive\n",
        "drive.mount('/gdrive')"
      ],
      "metadata": {
        "colab": {
          "base_uri": "https://localhost:8080/"
        },
        "id": "lY1pILSSIi27",
        "outputId": "b0373116-b7e7-4ad1-e181-62ac91c78a00"
      },
      "execution_count": null,
      "outputs": [
        {
          "output_type": "stream",
          "name": "stdout",
          "text": [
            "Mounted at /gdrive\n"
          ]
        }
      ]
    },
    {
      "cell_type": "code",
      "source": [
        "# 2.1 Where is our data file:\n",
        "pathToFolder = \"/gdrive/MyDrive/Deep Learning\""
      ],
      "metadata": {
        "id": "05WsWkOGJAUm"
      },
      "execution_count": null,
      "outputs": []
    },
    {
      "cell_type": "code",
      "source": [
        "# 2.2 Full file path:\n",
        "path = Path(pathToFolder) / \"red_wine.csv\""
      ],
      "metadata": {
        "id": "rjbcpsYaJLLz"
      },
      "execution_count": null,
      "outputs": []
    },
    {
      "cell_type": "code",
      "source": [
        "path"
      ],
      "metadata": {
        "id": "2C2o8b6T1y1I",
        "outputId": "d2358d21-9171-4a01-a09e-eb03de23ebee",
        "colab": {
          "base_uri": "https://localhost:8080/"
        }
      },
      "execution_count": null,
      "outputs": [
        {
          "output_type": "execute_result",
          "data": {
            "text/plain": [
              "PosixPath('/gdrive/MyDrive/Deep Learning/red_wine.csv')"
            ]
          },
          "metadata": {},
          "execution_count": 10
        }
      ]
    },
    {
      "cell_type": "code",
      "source": [
        "# 3.0 Read data\n",
        "red_wine = pd.read_csv(path)\n",
        "red_wine.head()"
      ],
      "metadata": {
        "colab": {
          "base_uri": "https://localhost:8080/",
          "height": 268
        },
        "id": "IDybeYGSJSOO",
        "outputId": "9bab4e3a-fe5a-4545-9330-6f44ed530dbb"
      },
      "execution_count": null,
      "outputs": [
        {
          "output_type": "execute_result",
          "data": {
            "text/plain": [
              "   fixed acidity  volatile acidity  citric acid  residual sugar  chlorides  \\\n",
              "0            7.4              0.70         0.00             1.9      0.076   \n",
              "1            7.8              0.88         0.00             2.6      0.098   \n",
              "2            7.8              0.76         0.04             2.3      0.092   \n",
              "3           11.2              0.28         0.56             1.9      0.075   \n",
              "4            7.4              0.70         0.00             1.9      0.076   \n",
              "\n",
              "   free sulfur dioxide  total sulfur dioxide  density    pH  sulphates  \\\n",
              "0                 11.0                  34.0   0.9978  3.51       0.56   \n",
              "1                 25.0                  67.0   0.9968  3.20       0.68   \n",
              "2                 15.0                  54.0   0.9970  3.26       0.65   \n",
              "3                 17.0                  60.0   0.9980  3.16       0.58   \n",
              "4                 11.0                  34.0   0.9978  3.51       0.56   \n",
              "\n",
              "   alcohol  quality  \n",
              "0      9.4        5  \n",
              "1      9.8        5  \n",
              "2      9.8        5  \n",
              "3      9.8        6  \n",
              "4      9.4        5  "
            ],
            "text/html": [
              "\n",
              "  <div id=\"df-1d53169f-1764-4e18-a30e-57fcc12a99f5\">\n",
              "    <div class=\"colab-df-container\">\n",
              "      <div>\n",
              "<style scoped>\n",
              "    .dataframe tbody tr th:only-of-type {\n",
              "        vertical-align: middle;\n",
              "    }\n",
              "\n",
              "    .dataframe tbody tr th {\n",
              "        vertical-align: top;\n",
              "    }\n",
              "\n",
              "    .dataframe thead th {\n",
              "        text-align: right;\n",
              "    }\n",
              "</style>\n",
              "<table border=\"1\" class=\"dataframe\">\n",
              "  <thead>\n",
              "    <tr style=\"text-align: right;\">\n",
              "      <th></th>\n",
              "      <th>fixed acidity</th>\n",
              "      <th>volatile acidity</th>\n",
              "      <th>citric acid</th>\n",
              "      <th>residual sugar</th>\n",
              "      <th>chlorides</th>\n",
              "      <th>free sulfur dioxide</th>\n",
              "      <th>total sulfur dioxide</th>\n",
              "      <th>density</th>\n",
              "      <th>pH</th>\n",
              "      <th>sulphates</th>\n",
              "      <th>alcohol</th>\n",
              "      <th>quality</th>\n",
              "    </tr>\n",
              "  </thead>\n",
              "  <tbody>\n",
              "    <tr>\n",
              "      <th>0</th>\n",
              "      <td>7.4</td>\n",
              "      <td>0.70</td>\n",
              "      <td>0.00</td>\n",
              "      <td>1.9</td>\n",
              "      <td>0.076</td>\n",
              "      <td>11.0</td>\n",
              "      <td>34.0</td>\n",
              "      <td>0.9978</td>\n",
              "      <td>3.51</td>\n",
              "      <td>0.56</td>\n",
              "      <td>9.4</td>\n",
              "      <td>5</td>\n",
              "    </tr>\n",
              "    <tr>\n",
              "      <th>1</th>\n",
              "      <td>7.8</td>\n",
              "      <td>0.88</td>\n",
              "      <td>0.00</td>\n",
              "      <td>2.6</td>\n",
              "      <td>0.098</td>\n",
              "      <td>25.0</td>\n",
              "      <td>67.0</td>\n",
              "      <td>0.9968</td>\n",
              "      <td>3.20</td>\n",
              "      <td>0.68</td>\n",
              "      <td>9.8</td>\n",
              "      <td>5</td>\n",
              "    </tr>\n",
              "    <tr>\n",
              "      <th>2</th>\n",
              "      <td>7.8</td>\n",
              "      <td>0.76</td>\n",
              "      <td>0.04</td>\n",
              "      <td>2.3</td>\n",
              "      <td>0.092</td>\n",
              "      <td>15.0</td>\n",
              "      <td>54.0</td>\n",
              "      <td>0.9970</td>\n",
              "      <td>3.26</td>\n",
              "      <td>0.65</td>\n",
              "      <td>9.8</td>\n",
              "      <td>5</td>\n",
              "    </tr>\n",
              "    <tr>\n",
              "      <th>3</th>\n",
              "      <td>11.2</td>\n",
              "      <td>0.28</td>\n",
              "      <td>0.56</td>\n",
              "      <td>1.9</td>\n",
              "      <td>0.075</td>\n",
              "      <td>17.0</td>\n",
              "      <td>60.0</td>\n",
              "      <td>0.9980</td>\n",
              "      <td>3.16</td>\n",
              "      <td>0.58</td>\n",
              "      <td>9.8</td>\n",
              "      <td>6</td>\n",
              "    </tr>\n",
              "    <tr>\n",
              "      <th>4</th>\n",
              "      <td>7.4</td>\n",
              "      <td>0.70</td>\n",
              "      <td>0.00</td>\n",
              "      <td>1.9</td>\n",
              "      <td>0.076</td>\n",
              "      <td>11.0</td>\n",
              "      <td>34.0</td>\n",
              "      <td>0.9978</td>\n",
              "      <td>3.51</td>\n",
              "      <td>0.56</td>\n",
              "      <td>9.4</td>\n",
              "      <td>5</td>\n",
              "    </tr>\n",
              "  </tbody>\n",
              "</table>\n",
              "</div>\n",
              "      <button class=\"colab-df-convert\" onclick=\"convertToInteractive('df-1d53169f-1764-4e18-a30e-57fcc12a99f5')\"\n",
              "              title=\"Convert this dataframe to an interactive table.\"\n",
              "              style=\"display:none;\">\n",
              "        \n",
              "  <svg xmlns=\"http://www.w3.org/2000/svg\" height=\"24px\"viewBox=\"0 0 24 24\"\n",
              "       width=\"24px\">\n",
              "    <path d=\"M0 0h24v24H0V0z\" fill=\"none\"/>\n",
              "    <path d=\"M18.56 5.44l.94 2.06.94-2.06 2.06-.94-2.06-.94-.94-2.06-.94 2.06-2.06.94zm-11 1L8.5 8.5l.94-2.06 2.06-.94-2.06-.94L8.5 2.5l-.94 2.06-2.06.94zm10 10l.94 2.06.94-2.06 2.06-.94-2.06-.94-.94-2.06-.94 2.06-2.06.94z\"/><path d=\"M17.41 7.96l-1.37-1.37c-.4-.4-.92-.59-1.43-.59-.52 0-1.04.2-1.43.59L10.3 9.45l-7.72 7.72c-.78.78-.78 2.05 0 2.83L4 21.41c.39.39.9.59 1.41.59.51 0 1.02-.2 1.41-.59l7.78-7.78 2.81-2.81c.8-.78.8-2.07 0-2.86zM5.41 20L4 18.59l7.72-7.72 1.47 1.35L5.41 20z\"/>\n",
              "  </svg>\n",
              "      </button>\n",
              "      \n",
              "  <style>\n",
              "    .colab-df-container {\n",
              "      display:flex;\n",
              "      flex-wrap:wrap;\n",
              "      gap: 12px;\n",
              "    }\n",
              "\n",
              "    .colab-df-convert {\n",
              "      background-color: #E8F0FE;\n",
              "      border: none;\n",
              "      border-radius: 50%;\n",
              "      cursor: pointer;\n",
              "      display: none;\n",
              "      fill: #1967D2;\n",
              "      height: 32px;\n",
              "      padding: 0 0 0 0;\n",
              "      width: 32px;\n",
              "    }\n",
              "\n",
              "    .colab-df-convert:hover {\n",
              "      background-color: #E2EBFA;\n",
              "      box-shadow: 0px 1px 2px rgba(60, 64, 67, 0.3), 0px 1px 3px 1px rgba(60, 64, 67, 0.15);\n",
              "      fill: #174EA6;\n",
              "    }\n",
              "\n",
              "    [theme=dark] .colab-df-convert {\n",
              "      background-color: #3B4455;\n",
              "      fill: #D2E3FC;\n",
              "    }\n",
              "\n",
              "    [theme=dark] .colab-df-convert:hover {\n",
              "      background-color: #434B5C;\n",
              "      box-shadow: 0px 1px 3px 1px rgba(0, 0, 0, 0.15);\n",
              "      filter: drop-shadow(0px 1px 2px rgba(0, 0, 0, 0.3));\n",
              "      fill: #FFFFFF;\n",
              "    }\n",
              "  </style>\n",
              "\n",
              "      <script>\n",
              "        const buttonEl =\n",
              "          document.querySelector('#df-1d53169f-1764-4e18-a30e-57fcc12a99f5 button.colab-df-convert');\n",
              "        buttonEl.style.display =\n",
              "          google.colab.kernel.accessAllowed ? 'block' : 'none';\n",
              "\n",
              "        async function convertToInteractive(key) {\n",
              "          const element = document.querySelector('#df-1d53169f-1764-4e18-a30e-57fcc12a99f5');\n",
              "          const dataTable =\n",
              "            await google.colab.kernel.invokeFunction('convertToInteractive',\n",
              "                                                     [key], {});\n",
              "          if (!dataTable) return;\n",
              "\n",
              "          const docLinkHtml = 'Like what you see? Visit the ' +\n",
              "            '<a target=\"_blank\" href=https://colab.research.google.com/notebooks/data_table.ipynb>data table notebook</a>'\n",
              "            + ' to learn more about interactive tables.';\n",
              "          element.innerHTML = '';\n",
              "          dataTable['output_type'] = 'display_data';\n",
              "          await google.colab.output.renderOutput(dataTable, element);\n",
              "          const docLink = document.createElement('div');\n",
              "          docLink.innerHTML = docLinkHtml;\n",
              "          element.appendChild(docLink);\n",
              "        }\n",
              "      </script>\n",
              "    </div>\n",
              "  </div>\n",
              "  "
            ]
          },
          "metadata": {},
          "execution_count": 9
        }
      ]
    },
    {
      "cell_type": "code",
      "source": [
        "red_wine.tail()\n",
        "# Model is a collection of pattern, here we are predicting Quality feature."
      ],
      "metadata": {
        "id": "U14s8yCK2y1I",
        "outputId": "3865c57d-f47a-4109-b643-ad5ecad987be",
        "colab": {
          "base_uri": "https://localhost:8080/",
          "height": 268
        }
      },
      "execution_count": null,
      "outputs": [
        {
          "output_type": "execute_result",
          "data": {
            "text/plain": [
              "      fixed acidity  volatile acidity  citric acid  residual sugar  chlorides  \\\n",
              "1594            6.2             0.600         0.08             2.0      0.090   \n",
              "1595            5.9             0.550         0.10             2.2      0.062   \n",
              "1596            6.3             0.510         0.13             2.3      0.076   \n",
              "1597            5.9             0.645         0.12             2.0      0.075   \n",
              "1598            6.0             0.310         0.47             3.6      0.067   \n",
              "\n",
              "      free sulfur dioxide  total sulfur dioxide  density    pH  sulphates  \\\n",
              "1594                 32.0                  44.0  0.99490  3.45       0.58   \n",
              "1595                 39.0                  51.0  0.99512  3.52       0.76   \n",
              "1596                 29.0                  40.0  0.99574  3.42       0.75   \n",
              "1597                 32.0                  44.0  0.99547  3.57       0.71   \n",
              "1598                 18.0                  42.0  0.99549  3.39       0.66   \n",
              "\n",
              "      alcohol  quality  \n",
              "1594     10.5        5  \n",
              "1595     11.2        6  \n",
              "1596     11.0        6  \n",
              "1597     10.2        5  \n",
              "1598     11.0        6  "
            ],
            "text/html": [
              "\n",
              "  <div id=\"df-0d9c6679-4d1d-48c4-b6d2-bbd79610ef2b\">\n",
              "    <div class=\"colab-df-container\">\n",
              "      <div>\n",
              "<style scoped>\n",
              "    .dataframe tbody tr th:only-of-type {\n",
              "        vertical-align: middle;\n",
              "    }\n",
              "\n",
              "    .dataframe tbody tr th {\n",
              "        vertical-align: top;\n",
              "    }\n",
              "\n",
              "    .dataframe thead th {\n",
              "        text-align: right;\n",
              "    }\n",
              "</style>\n",
              "<table border=\"1\" class=\"dataframe\">\n",
              "  <thead>\n",
              "    <tr style=\"text-align: right;\">\n",
              "      <th></th>\n",
              "      <th>fixed acidity</th>\n",
              "      <th>volatile acidity</th>\n",
              "      <th>citric acid</th>\n",
              "      <th>residual sugar</th>\n",
              "      <th>chlorides</th>\n",
              "      <th>free sulfur dioxide</th>\n",
              "      <th>total sulfur dioxide</th>\n",
              "      <th>density</th>\n",
              "      <th>pH</th>\n",
              "      <th>sulphates</th>\n",
              "      <th>alcohol</th>\n",
              "      <th>quality</th>\n",
              "    </tr>\n",
              "  </thead>\n",
              "  <tbody>\n",
              "    <tr>\n",
              "      <th>1594</th>\n",
              "      <td>6.2</td>\n",
              "      <td>0.600</td>\n",
              "      <td>0.08</td>\n",
              "      <td>2.0</td>\n",
              "      <td>0.090</td>\n",
              "      <td>32.0</td>\n",
              "      <td>44.0</td>\n",
              "      <td>0.99490</td>\n",
              "      <td>3.45</td>\n",
              "      <td>0.58</td>\n",
              "      <td>10.5</td>\n",
              "      <td>5</td>\n",
              "    </tr>\n",
              "    <tr>\n",
              "      <th>1595</th>\n",
              "      <td>5.9</td>\n",
              "      <td>0.550</td>\n",
              "      <td>0.10</td>\n",
              "      <td>2.2</td>\n",
              "      <td>0.062</td>\n",
              "      <td>39.0</td>\n",
              "      <td>51.0</td>\n",
              "      <td>0.99512</td>\n",
              "      <td>3.52</td>\n",
              "      <td>0.76</td>\n",
              "      <td>11.2</td>\n",
              "      <td>6</td>\n",
              "    </tr>\n",
              "    <tr>\n",
              "      <th>1596</th>\n",
              "      <td>6.3</td>\n",
              "      <td>0.510</td>\n",
              "      <td>0.13</td>\n",
              "      <td>2.3</td>\n",
              "      <td>0.076</td>\n",
              "      <td>29.0</td>\n",
              "      <td>40.0</td>\n",
              "      <td>0.99574</td>\n",
              "      <td>3.42</td>\n",
              "      <td>0.75</td>\n",
              "      <td>11.0</td>\n",
              "      <td>6</td>\n",
              "    </tr>\n",
              "    <tr>\n",
              "      <th>1597</th>\n",
              "      <td>5.9</td>\n",
              "      <td>0.645</td>\n",
              "      <td>0.12</td>\n",
              "      <td>2.0</td>\n",
              "      <td>0.075</td>\n",
              "      <td>32.0</td>\n",
              "      <td>44.0</td>\n",
              "      <td>0.99547</td>\n",
              "      <td>3.57</td>\n",
              "      <td>0.71</td>\n",
              "      <td>10.2</td>\n",
              "      <td>5</td>\n",
              "    </tr>\n",
              "    <tr>\n",
              "      <th>1598</th>\n",
              "      <td>6.0</td>\n",
              "      <td>0.310</td>\n",
              "      <td>0.47</td>\n",
              "      <td>3.6</td>\n",
              "      <td>0.067</td>\n",
              "      <td>18.0</td>\n",
              "      <td>42.0</td>\n",
              "      <td>0.99549</td>\n",
              "      <td>3.39</td>\n",
              "      <td>0.66</td>\n",
              "      <td>11.0</td>\n",
              "      <td>6</td>\n",
              "    </tr>\n",
              "  </tbody>\n",
              "</table>\n",
              "</div>\n",
              "      <button class=\"colab-df-convert\" onclick=\"convertToInteractive('df-0d9c6679-4d1d-48c4-b6d2-bbd79610ef2b')\"\n",
              "              title=\"Convert this dataframe to an interactive table.\"\n",
              "              style=\"display:none;\">\n",
              "        \n",
              "  <svg xmlns=\"http://www.w3.org/2000/svg\" height=\"24px\"viewBox=\"0 0 24 24\"\n",
              "       width=\"24px\">\n",
              "    <path d=\"M0 0h24v24H0V0z\" fill=\"none\"/>\n",
              "    <path d=\"M18.56 5.44l.94 2.06.94-2.06 2.06-.94-2.06-.94-.94-2.06-.94 2.06-2.06.94zm-11 1L8.5 8.5l.94-2.06 2.06-.94-2.06-.94L8.5 2.5l-.94 2.06-2.06.94zm10 10l.94 2.06.94-2.06 2.06-.94-2.06-.94-.94-2.06-.94 2.06-2.06.94z\"/><path d=\"M17.41 7.96l-1.37-1.37c-.4-.4-.92-.59-1.43-.59-.52 0-1.04.2-1.43.59L10.3 9.45l-7.72 7.72c-.78.78-.78 2.05 0 2.83L4 21.41c.39.39.9.59 1.41.59.51 0 1.02-.2 1.41-.59l7.78-7.78 2.81-2.81c.8-.78.8-2.07 0-2.86zM5.41 20L4 18.59l7.72-7.72 1.47 1.35L5.41 20z\"/>\n",
              "  </svg>\n",
              "      </button>\n",
              "      \n",
              "  <style>\n",
              "    .colab-df-container {\n",
              "      display:flex;\n",
              "      flex-wrap:wrap;\n",
              "      gap: 12px;\n",
              "    }\n",
              "\n",
              "    .colab-df-convert {\n",
              "      background-color: #E8F0FE;\n",
              "      border: none;\n",
              "      border-radius: 50%;\n",
              "      cursor: pointer;\n",
              "      display: none;\n",
              "      fill: #1967D2;\n",
              "      height: 32px;\n",
              "      padding: 0 0 0 0;\n",
              "      width: 32px;\n",
              "    }\n",
              "\n",
              "    .colab-df-convert:hover {\n",
              "      background-color: #E2EBFA;\n",
              "      box-shadow: 0px 1px 2px rgba(60, 64, 67, 0.3), 0px 1px 3px 1px rgba(60, 64, 67, 0.15);\n",
              "      fill: #174EA6;\n",
              "    }\n",
              "\n",
              "    [theme=dark] .colab-df-convert {\n",
              "      background-color: #3B4455;\n",
              "      fill: #D2E3FC;\n",
              "    }\n",
              "\n",
              "    [theme=dark] .colab-df-convert:hover {\n",
              "      background-color: #434B5C;\n",
              "      box-shadow: 0px 1px 3px 1px rgba(0, 0, 0, 0.15);\n",
              "      filter: drop-shadow(0px 1px 2px rgba(0, 0, 0, 0.3));\n",
              "      fill: #FFFFFF;\n",
              "    }\n",
              "  </style>\n",
              "\n",
              "      <script>\n",
              "        const buttonEl =\n",
              "          document.querySelector('#df-0d9c6679-4d1d-48c4-b6d2-bbd79610ef2b button.colab-df-convert');\n",
              "        buttonEl.style.display =\n",
              "          google.colab.kernel.accessAllowed ? 'block' : 'none';\n",
              "\n",
              "        async function convertToInteractive(key) {\n",
              "          const element = document.querySelector('#df-0d9c6679-4d1d-48c4-b6d2-bbd79610ef2b');\n",
              "          const dataTable =\n",
              "            await google.colab.kernel.invokeFunction('convertToInteractive',\n",
              "                                                     [key], {});\n",
              "          if (!dataTable) return;\n",
              "\n",
              "          const docLinkHtml = 'Like what you see? Visit the ' +\n",
              "            '<a target=\"_blank\" href=https://colab.research.google.com/notebooks/data_table.ipynb>data table notebook</a>'\n",
              "            + ' to learn more about interactive tables.';\n",
              "          element.innerHTML = '';\n",
              "          dataTable['output_type'] = 'display_data';\n",
              "          await google.colab.output.renderOutput(dataTable, element);\n",
              "          const docLink = document.createElement('div');\n",
              "          docLink.innerHTML = docLinkHtml;\n",
              "          element.appendChild(docLink);\n",
              "        }\n",
              "      </script>\n",
              "    </div>\n",
              "  </div>\n",
              "  "
            ]
          },
          "metadata": {},
          "execution_count": 12
        }
      ]
    },
    {
      "cell_type": "code",
      "source": [
        "# 3.1\n",
        "red_wine.shape   # (1599, 12)\n",
        "red_wine.dtypes"
      ],
      "metadata": {
        "colab": {
          "base_uri": "https://localhost:8080/"
        },
        "id": "bb9z8Q_8JZRl",
        "outputId": "9c32fd84-0cb5-4498-89b8-aea3168d8ef6"
      },
      "execution_count": null,
      "outputs": [
        {
          "output_type": "execute_result",
          "data": {
            "text/plain": [
              "(1599, 12)"
            ]
          },
          "metadata": {},
          "execution_count": 11
        },
        {
          "output_type": "execute_result",
          "data": {
            "text/plain": [
              "fixed acidity           float64\n",
              "volatile acidity        float64\n",
              "citric acid             float64\n",
              "residual sugar          float64\n",
              "chlorides               float64\n",
              "free sulfur dioxide     float64\n",
              "total sulfur dioxide    float64\n",
              "density                 float64\n",
              "pH                      float64\n",
              "sulphates               float64\n",
              "alcohol                 float64\n",
              "quality                   int64\n",
              "dtype: object"
            ]
          },
          "metadata": {},
          "execution_count": 11
        }
      ]
    },
    {
      "cell_type": "code",
      "source": [
        "# 3.2 Get target and predictors:\n",
        "y = red_wine.pop(\"quality\")\n",
        "X = red_wine"
      ],
      "metadata": {
        "id": "dbBF3xBGSdUe"
      },
      "execution_count": null,
      "outputs": []
    },
    {
      "cell_type": "code",
      "source": [
        "# 4.0 Build model:\n",
        "# It is Sequential in the sense as there is sequence of layers...First is Input layer..Then is hidden layer...Output layers..\n",
        "model = tf.keras.Sequential()"
      ],
      "metadata": {
        "id": "5GLTfq28Jhy8"
      },
      "execution_count": null,
      "outputs": []
    },
    {
      "cell_type": "code",
      "source": [
        "# 4.1 First/Input layer wants to know how many features are there is X.. AS uske basis no. of neurons decide hongey\n",
        "model.add(layers.Input( shape = (X.shape[1],) ) )\n",
        "# X.shape[1] is giving the no. of features of the dataset.. Since X.shape() tells rows & columns.....so X.shape[1] is giving\n",
        "# the second number of the output is no. of columns"
      ],
      "metadata": {
        "id": "gkcpIJhTKNjq"
      },
      "execution_count": null,
      "outputs": []
    },
    {
      "cell_type": "code",
      "source": [
        "# 4.2 Adding one hidden layer with only 1 neuron\n",
        "model.add(layers.Dense(1))"
      ],
      "metadata": {
        "id": "6e2ANk0kMjFa"
      },
      "execution_count": null,
      "outputs": []
    },
    {
      "cell_type": "markdown",
      "source": [
        "![image.png](data:image/png;base64,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)"
      ],
      "metadata": {
        "id": "_2S1DHqCVr8Y"
      }
    },
    {
      "cell_type": "code",
      "source": [
        "# 4.2.1\n",
        "weights, bias = model.weights"
      ],
      "metadata": {
        "id": "3MqcuyNRO5t9"
      },
      "execution_count": null,
      "outputs": []
    },
    {
      "cell_type": "code",
      "source": [
        "# 4.2.2\n",
        "weights"
      ],
      "metadata": {
        "colab": {
          "base_uri": "https://localhost:8080/"
        },
        "id": "GwA3W5YwO7Iw",
        "outputId": "7b2564bd-5bf9-4b9a-9137-64fc42cd0216"
      },
      "execution_count": null,
      "outputs": [
        {
          "output_type": "execute_result",
          "data": {
            "text/plain": [
              "<tf.Variable 'dense_2/kernel:0' shape=(11, 1) dtype=float32, numpy=\n",
              "array([[ 0.5324891 ],\n",
              "       [ 0.28452057],\n",
              "       [-0.03032851],\n",
              "       [ 0.09491569],\n",
              "       [-0.16538829],\n",
              "       [ 0.55350345],\n",
              "       [ 0.5626977 ],\n",
              "       [ 0.2902311 ],\n",
              "       [-0.48377115],\n",
              "       [ 0.03395367],\n",
              "       [-0.607404  ]], dtype=float32)>"
            ]
          },
          "metadata": {},
          "execution_count": 79
        }
      ]
    },
    {
      "cell_type": "code",
      "source": [
        "# 4.2.3\n",
        "bias"
      ],
      "metadata": {
        "colab": {
          "base_uri": "https://localhost:8080/"
        },
        "id": "wwdoAxUePcyb",
        "outputId": "83dafe05-70fe-4f01-e4a5-662f09804526"
      },
      "execution_count": null,
      "outputs": [
        {
          "output_type": "execute_result",
          "data": {
            "text/plain": [
              "<tf.Variable 'dense_11/bias:0' shape=(1,) dtype=float32, numpy=array([0.], dtype=float32)>"
            ]
          },
          "metadata": {},
          "execution_count": 150
        }
      ]
    },
    {
      "cell_type": "code",
      "source": [
        "#4.3 Compile\n",
        "model.compile( loss = \"mae\")"
      ],
      "metadata": {
        "id": "1jc9JzpaSNlE"
      },
      "execution_count": null,
      "outputs": []
    },
    {
      "cell_type": "code",
      "source": [
        "# 4.4 Train\n",
        "model.fit(X,y, epochs = 100 )"
      ],
      "metadata": {
        "id": "HzN91F1fSXab"
      },
      "execution_count": null,
      "outputs": []
    },
    {
      "cell_type": "code",
      "source": [
        "# 5.0 Predict\n",
        "pred = model.predict(X)"
      ],
      "metadata": {
        "colab": {
          "base_uri": "https://localhost:8080/"
        },
        "id": "oZ7sDg1gSsjy",
        "outputId": "e18bc933-68d3-4911-b708-5f9ffec7e1fb"
      },
      "execution_count": null,
      "outputs": [
        {
          "output_type": "stream",
          "name": "stdout",
          "text": [
            "50/50 [==============================] - 0s 2ms/step\n"
          ]
        }
      ]
    },
    {
      "cell_type": "code",
      "source": [
        "# 5.1 Round up decimal places\n",
        "pred = np.round(pred)\n"
      ],
      "metadata": {
        "id": "pqj1uXbHTCFB"
      },
      "execution_count": null,
      "outputs": []
    },
    {
      "cell_type": "code",
      "source": [
        "# 5.1.1\n",
        "y.shape"
      ],
      "metadata": {
        "colab": {
          "base_uri": "https://localhost:8080/"
        },
        "id": "WuSpc--7TcO1",
        "outputId": "ce87871b-a695-4f77-e230-ee6273b4dabd"
      },
      "execution_count": null,
      "outputs": [
        {
          "output_type": "execute_result",
          "data": {
            "text/plain": [
              "(1599,)"
            ]
          },
          "metadata": {},
          "execution_count": 155
        }
      ]
    },
    {
      "cell_type": "code",
      "source": [
        "# 5.2 Compare:\n",
        "np.sum(pred == y.values.reshape(1599,1))/1599"
      ],
      "metadata": {
        "colab": {
          "base_uri": "https://localhost:8080/"
        },
        "id": "i2UxyXTMTF-1",
        "outputId": "813ee585-1ecd-46dc-fa43-1c53c5ce6264"
      },
      "execution_count": null,
      "outputs": [
        {
          "output_type": "execute_result",
          "data": {
            "text/plain": [
              "0.5828642901813633"
            ]
          },
          "metadata": {},
          "execution_count": 156
        }
      ]
    },
    {
      "cell_type": "code",
      "source": [
        "######### --------Done ---------------"
      ],
      "metadata": {
        "id": "K8RtiMS3Xt2n"
      },
      "execution_count": null,
      "outputs": []
    }
  ]
}